{
 "cells": [
  {
   "cell_type": "code",
   "execution_count": 79,
   "metadata": {
    "collapsed": false
   },
   "outputs": [],
   "source": [
    "import matplotlib.pyplot as plt\n",
    "import matplotlib.image as mpimg\n",
    "from matplotlib import pyplot as plt\n",
    "import numpy as np\n",
    "from PIL import Image\n",
    "from skimage import data\n",
    "from skimage.feature import blob_dog\n",
    "from skimage.color import rgb2gray\n",
    "from skimage import measure\n",
    "from skimage import io\n",
    "from skimage.external import tifffile\n",
    "from sklearn.feature_extraction.image import grid_to_graph\n",
    "from sklearn.cluster import AgglomerativeClustering\n",
    "from sklearn.utils.testing import SkipTest\n",
    "from sklearn.utils.fixes import sp_version\n",
    "from sklearn.feature_extraction import image\n",
    "from sklearn.cluster import spectral_clustering\n",
    "import time\n",
    "import scipy as sp\n",
    "import scipy.misc\n"
   ]
  },
  {
   "cell_type": "code",
   "execution_count": 2,
   "metadata": {
    "collapsed": true
   },
   "outputs": [],
   "source": [
    "image = Image.open('C:\\\\Users\\\\PABLO ORTIZ\\\\ImageWeek3.jpg')\n",
    "orimage=np.array(image)\n",
    "\n",
    "def average(pixel):\n",
    "    return(0.299*pixel[0]+0.587*pixel[1]+0.114*pixel[2])\n",
    "\n",
    "\n",
    "width,height=image.size\n",
    "for x in range(width):\n",
    "    for y in range(height):\n",
    "        r,g,b=image.getpixel((x,y))\n",
    "        #image.putpixel((x,y),(r,g,0))\n",
    "        if (b>r and b>g) or average(image.getpixel((x,y)))>150 or average(image.getpixel((x,y)))<100:\n",
    "            new_color=0\n",
    "            image.putpixel((x,y),new_color)\n",
    "\n",
    "#scipy.misc.imsave('ImageWeek3redgreen.jpg', image)\n",
    "\n",
    "image=np.array(image)\n",
    "image=rgb2gray(image)\n",
    "\n",
    "blobs_dog = blob_dog(image, max_sigma=50, threshold=.5)\n",
    "\n",
    "blobs = [blobs_dog]\n",
    "colors = ['yellow']\n",
    "titles = ['Difference of Gaussian']\n",
    "sequence = zip(blobs, colors, titles)\n",
    "\n",
    "for blobs, color, title in sequence:\n",
    "    fig, ax = plt.subplots(1, 1)\n",
    "    ax.set_title(title)\n",
    "    ax.imshow(orimage, interpolation='nearest',cmap='gray')\n",
    "    for blob in blobs:\n",
    "        y, x, r = blob\n",
    "        c = plt.Circle((x, y), r, color=color, linewidth=1, fill=False)\n",
    "        if r>20:\n",
    "            ax.add_patch(c)\n",
    "plt.show()\n",
    "#scipy.misc.imsave('ImageWeek3circled.jpg', image)"
   ]
  },
  {
   "cell_type": "code",
   "execution_count": 80,
   "metadata": {
    "collapsed": true
   },
   "outputs": [],
   "source": [
    "image = Image.open('C:\\\\Users\\\\PABLO ORTIZ\\\\ImageWeek3.jpg')\n",
    "\n",
    "\n",
    "\n",
    "im=np.array(image)\n",
    "im=rgb2gray(im)\n",
    "\n",
    "blobs = im < 0.1 * im.mean()\n",
    "plt.imshow(blobs,cmap='gray')\n",
    "\n",
    "blobs_dog = blob_dog(blobs, max_sigma=200, threshold=.5)\n",
    "\n",
    "blobs = [blobs_dog]\n",
    "colors = ['yellow']\n",
    "titles = ['Difference of Gaussian']\n",
    "sequence = zip(blobs, colors, titles)\n",
    "\n",
    "for blobs, color, title in sequence:\n",
    "    fig, ax = plt.subplots(1, 1)\n",
    "    ax.set_title(title)\n",
    "    ax.imshow(image, interpolation='nearest',cmap='gray')\n",
    "    for blob in blobs:\n",
    "        y, x, r = blob\n",
    "        c = plt.Circle((x, y), r, color=color, linewidth=1, fill=False)\n",
    "        if r>30:\n",
    "            ax.add_patch(c)\n",
    "\n",
    "\n",
    "plt.show()\n",
    "#scipy.misc.imsave('ImageWeek3circledBlack.jpg', image)"
   ]
  },
  {
   "cell_type": "code",
   "execution_count": 2,
   "metadata": {
    "collapsed": false
   },
   "outputs": [
    {
     "name": "stdout",
     "output_type": "stream",
     "text": [
      "Compute structured hierarchical clustering...\n",
      "Elapsed time:  1020.3912200927734\n",
      "Number of pixels:  550564\n",
      "Number of clusters:  100\n"
     ]
    },
    {
     "data": {
      "text/plain": [
       "<matplotlib.image.AxesImage at 0x1bb6921048>"
      ]
     },
     "execution_count": 2,
     "metadata": {},
     "output_type": "execute_result"
    }
   ],
   "source": [
    "image_20 = io.imread('ImageWeek3.jpg')\n",
    "im = rgb2gray(image_20)\n",
    "\n",
    "image_20_gray = im >im.mean()\n",
    "\n",
    "img20 = sp.misc.imresize(image_20_gray, 0.3) /255.\n",
    "X20 = np.reshape(img20, (-1, 1))\n",
    "\n",
    "connectivity20 = grid_to_graph(*img20.shape)\n",
    "\n",
    "# Compute clustering\n",
    "print(\"Compute structured hierarchical clustering...\")\n",
    "st = time.time()\n",
    "\n",
    "n_clusters = 100  # number of regions\n",
    "img_temp = img20\n",
    "X_temp = X20\n",
    "connectivity_temp = connectivity20\n",
    "\n",
    "ward = AgglomerativeClustering(n_clusters=n_clusters, linkage='ward', connectivity=connectivity_temp)\n",
    "ward.fit(X_temp)\n",
    "label = np.reshape(ward.labels_, img_temp.shape)\n",
    "print(\"Elapsed time: \", time.time() - st)\n",
    "print(\"Number of pixels: \", label.size)\n",
    "print(\"Number of clusters: \", np.unique(label).size)\n",
    "\n",
    "\n",
    "plt.figure(figsize=(10, 10))\n",
    "plt.imshow(img_temp, cmap=plt.cm.gray)\n",
    "for l in range(n_clusters):\n",
    "    plt.contour(label == l, contours=1,\n",
    "                colors=[plt.cm.spectral(l / float(n_clusters)), ])\n",
    "plt.xticks(())\n",
    "plt.yticks(())\n",
    "plt.show()\n",
    "\n",
    "\n",
    "plt.imshow(img_temp,cmap='gray')"
   ]
  },
  {
   "cell_type": "code",
   "execution_count": 75,
   "metadata": {
    "collapsed": false
   },
   "outputs": [
    {
     "name": "stdout",
     "output_type": "stream",
     "text": [
      "Spectral clustering: discretize, 17.98s\n"
     ]
    }
   ],
   "source": [
    "from sklearn.feature_extraction import image\n",
    "\n",
    "orimage=io.imread('ImageWeek3.jpg')\n",
    "im=rgb2gray(orimage)\n",
    "im=im<0.1*im.mean()\n",
    "\n",
    "# Resize it to 10% of the original size to speed up the processing\n",
    "im = sp.misc.imresize(im, 0.03)/255.\n",
    "im_buble=im\n",
    "\n",
    "# Convert the image into a graph with the value of the gradient on the\n",
    "# edges.\n",
    "graph = image.img_to_graph(im)\n",
    "\n",
    "# Take a decreasing function of the gradient: an exponential\n",
    "# The smaller beta is, the more independent the segmentation is of the\n",
    "# actual image. For beta=1, the segmentation is close to a voronoi\n",
    "beta = 5\n",
    "eps = 1e-6\n",
    "graph.data = np.exp(-beta * graph.data / graph.data.std()) + eps\n",
    "\n",
    "# Apply spectral clustering (this step goes much faster if you have pyamg\n",
    "# installed)\n",
    "N_REGIONS = 15\n",
    "\n",
    "#############################################################################\n",
    "# Visualize the resulting regions\n",
    "\n",
    "\n",
    "t0 = time.time()\n",
    "labels = spectral_clustering(graph, n_clusters=N_REGIONS,\n",
    "                                assign_labels='discretize', random_state=1)\n",
    "t1 = time.time()\n",
    "labels = labels.reshape(im.shape)\n",
    "\n",
    "plt.figure(figsize=(5, 5))\n",
    "plt.imshow(im, cmap=plt.cm.gray)\n",
    "for l in range(N_REGIONS):\n",
    "    plt.contour(labels == l, contours=1, colors='red')\n",
    "    2+2\n",
    "plt.xticks(())\n",
    "plt.yticks(())\n",
    "title = 'Spectral clustering: %s, %.2fs' % ('discretize', (t1 - t0))\n",
    "print(title)\n",
    "plt.title(title)\n",
    "\n",
    "plt.show()"
   ]
  },
  {
   "cell_type": "code",
   "execution_count": 38,
   "metadata": {
    "collapsed": false
   },
   "outputs": [
    {
     "ename": "AttributeError",
     "evalue": "mean",
     "output_type": "error",
     "traceback": [
      "\u001b[1;31m---------------------------------------------------------------------------\u001b[0m",
      "\u001b[1;31mAttributeError\u001b[0m                            Traceback (most recent call last)",
      "\u001b[1;32m<ipython-input-38-c9a04626b321>\u001b[0m in \u001b[0;36m<module>\u001b[1;34m()\u001b[0m\n\u001b[0;32m      3\u001b[0m \u001b[1;33m\u001b[0m\u001b[0m\n\u001b[0;32m      4\u001b[0m \u001b[0mim\u001b[0m\u001b[1;33m=\u001b[0m\u001b[0morimg\u001b[0m\u001b[1;33m.\u001b[0m\u001b[0mconvert\u001b[0m\u001b[1;33m(\u001b[0m\u001b[1;34m'L'\u001b[0m\u001b[1;33m)\u001b[0m\u001b[1;33m\u001b[0m\u001b[0m\n\u001b[1;32m----> 5\u001b[1;33m \u001b[0mim\u001b[0m\u001b[1;33m=\u001b[0m\u001b[0mim\u001b[0m\u001b[1;33m<\u001b[0m\u001b[1;36m0.1\u001b[0m\u001b[1;33m*\u001b[0m\u001b[0mim\u001b[0m\u001b[1;33m.\u001b[0m\u001b[0mmean\u001b[0m\u001b[1;33m(\u001b[0m\u001b[1;33m)\u001b[0m\u001b[1;33m\u001b[0m\u001b[0m\n\u001b[0m\u001b[0;32m      6\u001b[0m \u001b[0mim\u001b[0m\u001b[1;33m=\u001b[0m\u001b[0mImage\u001b[0m\u001b[1;33m.\u001b[0m\u001b[0mfromarray\u001b[0m\u001b[1;33m(\u001b[0m\u001b[0mim\u001b[0m\u001b[1;33m)\u001b[0m\u001b[1;33m\u001b[0m\u001b[0m\n\u001b[0;32m      7\u001b[0m \u001b[1;33m\u001b[0m\u001b[0m\n",
      "\u001b[1;32mC:\\Users\\PABLO ORTIZ\\Anaconda3\\lib\\site-packages\\PIL\\Image.py\u001b[0m in \u001b[0;36m__getattr__\u001b[1;34m(self, name)\u001b[0m\n\u001b[0;32m    626\u001b[0m             \u001b[0mnew\u001b[0m\u001b[1;33m[\u001b[0m\u001b[1;34m'version'\u001b[0m\u001b[1;33m]\u001b[0m \u001b[1;33m=\u001b[0m \u001b[1;36m3\u001b[0m\u001b[1;33m\u001b[0m\u001b[0m\n\u001b[0;32m    627\u001b[0m             \u001b[1;32mreturn\u001b[0m \u001b[0mnew\u001b[0m\u001b[1;33m\u001b[0m\u001b[0m\n\u001b[1;32m--> 628\u001b[1;33m         \u001b[1;32mraise\u001b[0m \u001b[0mAttributeError\u001b[0m\u001b[1;33m(\u001b[0m\u001b[0mname\u001b[0m\u001b[1;33m)\u001b[0m\u001b[1;33m\u001b[0m\u001b[0m\n\u001b[0m\u001b[0;32m    629\u001b[0m \u001b[1;33m\u001b[0m\u001b[0m\n\u001b[0;32m    630\u001b[0m     \u001b[1;32mdef\u001b[0m \u001b[0m__getstate__\u001b[0m\u001b[1;33m(\u001b[0m\u001b[0mself\u001b[0m\u001b[1;33m)\u001b[0m\u001b[1;33m:\u001b[0m\u001b[1;33m\u001b[0m\u001b[0m\n",
      "\u001b[1;31mAttributeError\u001b[0m: mean"
     ]
    }
   ],
   "source": [
    "orimage=io.imread('ImageWeek3.jpg')\n",
    "orimg=Image.fromarray(orimage)\n",
    "\n",
    "im=orimg.convert('L')\n",
    "im=im<0.1*im.mean()\n",
    "im=Image.fromarray(im)\n",
    "\n",
    "# Resize it to 10% of the original size to speed up the processing\n",
    "im = sp.misc.imresize(im, 0.1)\n",
    "\n",
    "width,height=orimg.size\n",
    "im = im.resize((width,height))\n",
    "\n",
    "plt.imshow(im,cmap='gray')\n",
    "plt.show()"
   ]
  },
  {
   "cell_type": "code",
   "execution_count": null,
   "metadata": {
    "collapsed": true
   },
   "outputs": [],
   "source": []
  }
 ],
 "metadata": {
  "kernelspec": {
   "display_name": "Python 3",
   "language": "python",
   "name": "python3"
  },
  "language_info": {
   "codemirror_mode": {
    "name": "ipython",
    "version": 3
   },
   "file_extension": ".py",
   "mimetype": "text/x-python",
   "name": "python",
   "nbconvert_exporter": "python",
   "pygments_lexer": "ipython3",
   "version": "3.5.1"
  }
 },
 "nbformat": 4,
 "nbformat_minor": 0
}

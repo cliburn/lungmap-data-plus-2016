{
 "cells": [
  {
   "cell_type": "code",
   "execution_count": null,
   "metadata": {
    "collapsed": true
   },
   "outputs": [],
   "source": [
    "import cv2\n",
    "import numpy as np\n",
    "import matplotlib.pyplot as plt\n",
    "import os\n",
    "import csv\n",
    "import pandas as pd\n",
    "from skimage import io\n",
    "import json\n",
    "import pickle\n",
    "\n",
    "%matplotlib inline"
   ]
  },
  {
   "cell_type": "code",
   "execution_count": null,
   "metadata": {
    "collapsed": true
   },
   "outputs": [],
   "source": [
    "# define class for JSON object\n",
    "class myEncoder(json.JSONEncoder):\n",
    "    def default(self, obj):\n",
    "        return {'_python_object': pickle.dumps(obj)}\n",
    "\n",
    "def as_python_object(dct):\n",
    "    if '_python_object' in dct:\n",
    "        return pickle.loads(str(dct['_python_object']))\n",
    "    return dct"
   ]
  },
  {
   "cell_type": "code",
   "execution_count": null,
   "metadata": {
    "collapsed": true
   },
   "outputs": [],
   "source": [
    "# load metadata_table\n",
    "df = pd.read_csv('C:\\\\Users\\\\Lina\\\\Anaconda3\\\\notebook\\\\data\\\\metadata\\\\metadata_table_all.csv')\n",
    "structure = \"TTF-1_cells\"\n",
    "species = \"mus musculus\"\n",
    "\n",
    "with open('./output/green_cells/data_greencells.json', 'wb') as f:\n",
    "    json.dump([], f)\n",
    "    \n",
    "for subdir, dirs, files in os.walk('G:/2016/Summer/LungMAP/Image_data'):\n",
    "    for file in files:\n",
    "        filepath = subdir + os.sep + file\n",
    "        \n",
    "        if \"LMH\" not in filepath and \"NKX2.1\" in filepath and \"meta.json\" not in filepath:\n",
    "            im = cv2.imread(filepath)\n",
    "            im = cv2.cvtColor(im, cv2.COLOR_BGR2RGB)\n",
    "            origin = im.copy()\n",
    "            age = df[df[\"img_file\"]==file][\"age_label\"].any()\n",
    "            \n",
    "            if (df[df[\"img_file\"]==file][df[df[\"img_file\"]==file][\"probe_label\"] == \"TTF-1\"][\"color\"].any() == \"Green\"):\n",
    "                R, G, B = cv2.split(im)\n",
    "                G_norm = cv2.normalize(G,G,0, 175, cv2.NORM_MINMAX)\n",
    "                im = cv2.merge((R, G_norm, B))\n",
    "                thresh = cv2.inRange(im, np.array([0,55,40]), np.array([60,255,255]))\n",
    "            elif (df[df[\"img_file\"]==file][df[df[\"img_file\"]==file][\"probe_label\"] == \"TTF-1\"][\"color\"].any() == \"Red\"):\n",
    "                thresh = cv2.inRange(im, np.array([68,0,50]), np.array([255,60,255]))\n",
    "                \n",
    "            # find contours\n",
    "            c=0\n",
    "            if (df[df[\"img_file\"]==file][\"magnification\"].any() == \"60X\"):\n",
    "                minarea = 200\n",
    "            elif (df[df[\"img_file\"]==file][\"magnification\"].any() == \"20X\"):\n",
    "                minarea = 20\n",
    "            finalcontours = []\n",
    "            im2, contours, hierarchy = cv2.findContours(thresh,cv2.RETR_CCOMP,cv2.CHAIN_APPROX_SIMPLE)\n",
    "            for i in range(0, len(contours)):\n",
    "                a = cv2.contourArea(contours[i])\n",
    "                if (a>minarea):\n",
    "                    finalcontours.append(contours[i])\n",
    "                    c=c+1\n",
    "\n",
    "            # draw contours       \n",
    "            #for ia in range(0, len(finalcontours)):\n",
    "                #temp2 = cv2.drawContours(origin,finalcontours,ia,(250,220,55),thickness=2, lineType=2,maxLevel=0)\n",
    "            #plt.figure(figsize=(38, 8))\n",
    "            #plt.title(file)\n",
    "            #plt.imshow(temp2)\n",
    "\n",
    "            center = []\n",
    "            area = []\n",
    "            contours_out = []\n",
    "            for ct in finalcontours:\n",
    "                M = cv2.moments(ct)\n",
    "                ctX = int(M[\"m10\"] / M[\"m00\"])\n",
    "                ctY = int(M[\"m01\"] / M[\"m00\"])\n",
    "                cv2.circle(im, (ctX, ctY), 7, (255, 255, 255), -1)\n",
    "                a = cv2.contourArea(ct)\n",
    "                center.append((ctX,ctY))\n",
    "                area.append(a)\n",
    "                #contours_out.append(ct)\n",
    "\n",
    "            with open('./output/green_cells/data_greencells.json', 'rb') as feedsjson:\n",
    "                feeds = json.load(feedsjson)                        \n",
    "            with open('./output/green_cells/data_greencells.json', 'wb') as outfile:\n",
    "                output = { 'area': area,\n",
    "                      'center': center,\n",
    "                      #'contour_(x,y)': contours_out,\n",
    "                      'img_file': file,\n",
    "                      'age': age,\n",
    "                      'species': species,\n",
    "                      'structure': structure,\n",
    "                      'number of cells': len(finalcontours),\n",
    "                      'total area of cells': sum(area)\n",
    "                    }\n",
    "                \n",
    "                feeds.append(output)\n",
    "                json.dump(feeds, outfile)\n",
    "                #json.dump(feeds, outfile, cls = myEncoder)\n",
    "\n",
    "                "
   ]
  }
 ],
 "metadata": {
  "kernelspec": {
   "display_name": "Python 2",
   "language": "python",
   "name": "python2"
  },
  "language_info": {
   "codemirror_mode": {
    "name": "ipython",
    "version": 2
   },
   "file_extension": ".py",
   "mimetype": "text/x-python",
   "name": "python",
   "nbconvert_exporter": "python",
   "pygments_lexer": "ipython2",
   "version": "2.7.11"
  }
 },
 "nbformat": 4,
 "nbformat_minor": 0
}

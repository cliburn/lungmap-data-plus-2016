{
 "cells": [
  {
   "cell_type": "code",
   "execution_count": 4,
   "metadata": {
    "collapsed": true
   },
   "outputs": [],
   "source": [
    "import pandas as pd\n",
    "\n",
    "def partition():\n",
    "    Name_List=[]\n",
    "    Parameter=''\n",
    "    Specific=[]\n",
    "    inp=''\n",
    "    filepath = input(\"Please specify the file path for your input\")\n",
    "    df = pd.read_csv(filepath)\n",
    "    filename='metadata_table_all.csv'\n",
    "    while (Parameter!='None'):\n",
    "        inp=''\n",
    "        Parameter=input('What parameter are you looking for? (Type None for no further specification) ')\n",
    "        if (Parameter!='None'):\n",
    "            Name_List.append(Parameter)\n",
    "            while inp!='None':\n",
    "                inp=input('Which value(s) for that parameter ? (Type None for no further specification)')\n",
    "                if inp!='None':\n",
    "                    Specific.append(inp)\n",
    "                    Name_List.append(inp)\n",
    "                    \n",
    "                \n",
    "            filename = str(Name_List)[1:-1]+'.csv'\n",
    "            output = df[df[Parameter].isin(Specific)]\n",
    "            output.to_csv(filename,index=False)\n",
    "            df=pd.read_csv(filename)\n",
    "        else:\n",
    "            df.to_csv(filename,index=False)\n",
    "    return 1"
   ]
  },
  {
   "cell_type": "code",
   "execution_count": 7,
   "metadata": {
    "collapsed": false
   },
   "outputs": [
    {
     "name": "stdout",
     "output_type": "stream",
     "text": [
      "Please specify the file path for your inputC:\\Users\\Lina\\Anaconda3\\notebook\\data\\metadata\\metadata_table_all.csv\n",
      "What parameter are you looking for? (Type None for no further specification) age_label\n",
      "Which value(s) for that parameter ? (Type None for no further specification)E16.5\n",
      "Which value(s) for that parameter ? (Type None for no further specification)None\n",
      "What parameter are you looking for? (Type None for no further specification) None\n"
     ]
    },
    {
     "data": {
      "text/plain": [
       "1"
      ]
     },
     "execution_count": 7,
     "metadata": {},
     "output_type": "execute_result"
    }
   ],
   "source": [
    "partition()"
   ]
  },
  {
   "cell_type": "code",
   "execution_count": null,
   "metadata": {
    "collapsed": true
   },
   "outputs": [],
   "source": []
  }
 ],
 "metadata": {
  "kernelspec": {
   "display_name": "Python 3",
   "language": "python",
   "name": "python3"
  },
  "language_info": {
   "codemirror_mode": {
    "name": "ipython",
    "version": 3
   },
   "file_extension": ".py",
   "mimetype": "text/x-python",
   "name": "python",
   "nbconvert_exporter": "python",
   "pygments_lexer": "ipython3",
   "version": "3.5.1"
  }
 },
 "nbformat": 4,
 "nbformat_minor": 0
}

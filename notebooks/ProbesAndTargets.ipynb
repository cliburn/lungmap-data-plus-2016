{
 "cells": [
  {
   "cell_type": "code",
   "execution_count": 57,
   "metadata": {
    "collapsed": true
   },
   "outputs": [],
   "source": [
    "import pandas as pd"
   ]
  },
  {
   "cell_type": "code",
   "execution_count": 8,
   "metadata": {
    "collapsed": false
   },
   "outputs": [],
   "source": [
    "df = pd.read_csv('data/antibody_dictionary.csv')"
   ]
  },
  {
   "cell_type": "markdown",
   "metadata": {},
   "source": [
    "### Create dictionary mapping probes to targets"
   ]
  },
  {
   "cell_type": "code",
   "execution_count": 49,
   "metadata": {
    "collapsed": false
   },
   "outputs": [],
   "source": [
    "probe_target_dict = {}\n",
    "for i, row in df.iterrows():\n",
    "    vals = row.values\n",
    "    key = vals[0].strip().lower()\n",
    "    vals = {v.strip().lower() for v in vals[1:] if not pd.isnull(v)}\n",
    "    probe_target_dict[key] = vals"
   ]
  },
  {
   "cell_type": "markdown",
   "metadata": {},
   "source": [
    "### Create dictionary mapping targets to probes"
   ]
  },
  {
   "cell_type": "code",
   "execution_count": 50,
   "metadata": {
    "collapsed": false
   },
   "outputs": [],
   "source": [
    "target_probe_dict = {}\n",
    "for key, vals in probe_target_dict.items():\n",
    "    for val in vals:\n",
    "        target_probe_dict.setdefault(val, set([])).add(key)"
   ]
  },
  {
   "cell_type": "markdown",
   "metadata": {},
   "source": [
    "### Save dictionaries to disk for reuse"
   ]
  },
  {
   "cell_type": "code",
   "execution_count": 58,
   "metadata": {
    "collapsed": true
   },
   "outputs": [],
   "source": [
    "import pickle"
   ]
  },
  {
   "cell_type": "code",
   "execution_count": 60,
   "metadata": {
    "collapsed": false
   },
   "outputs": [],
   "source": [
    "with open('probe_target_dict.pic', 'wb') as f:\n",
    "    pickle.dump(probe_target_dict, f)"
   ]
  },
  {
   "cell_type": "code",
   "execution_count": 61,
   "metadata": {
    "collapsed": true
   },
   "outputs": [],
   "source": [
    "with open('target_probe_dict.pic', 'wb') as f:\n",
    "    pickle.dump(target_probe_dict, f)"
   ]
  },
  {
   "cell_type": "markdown",
   "metadata": {},
   "source": [
    "### Check that we can load pickled files"
   ]
  },
  {
   "cell_type": "code",
   "execution_count": 67,
   "metadata": {
    "collapsed": false
   },
   "outputs": [],
   "source": [
    "with open('probe_target_dict.pic', 'rb') as f:\n",
    "    ptd = pickle.load(f)\n",
    "assert(ptd == probe_target_dict)"
   ]
  },
  {
   "cell_type": "code",
   "execution_count": 69,
   "metadata": {
    "collapsed": false
   },
   "outputs": [],
   "source": [
    "with open('target_probe_dict.pic', 'rb') as f:\n",
    "    tpd = pickle.load(f)\n",
    "assert(tpd == target_probe_dict)"
   ]
  },
  {
   "cell_type": "markdown",
   "metadata": {},
   "source": [
    "### Utility function to find common target(s) of multiple probes"
   ]
  },
  {
   "cell_type": "code",
   "execution_count": 51,
   "metadata": {
    "collapsed": true
   },
   "outputs": [],
   "source": [
    "from functools import reduce"
   ]
  },
  {
   "cell_type": "code",
   "execution_count": 52,
   "metadata": {
    "collapsed": true
   },
   "outputs": [],
   "source": [
    "def find_targets(probes, probe_target_dict=probe_target_dict):\n",
    "    \"\"\"Return intersection of targets identified by probes.\"\"\"\n",
    "    return reduce(lambda s1, s2: s1 & s2, \n",
    "                 [probe_target_dict[probe.strip().lower()] for probe in probes])"
   ]
  },
  {
   "cell_type": "markdown",
   "metadata": {},
   "source": [
    "### Simple examples to check"
   ]
  },
  {
   "cell_type": "markdown",
   "metadata": {},
   "source": [
    "#### Find targets of a probe"
   ]
  },
  {
   "cell_type": "code",
   "execution_count": 54,
   "metadata": {
    "collapsed": false
   },
   "outputs": [
    {
     "data": {
      "text/plain": [
       "{'acinar epithelial cell',\n",
       " 'alveolar interstitial cell',\n",
       " 'alveolar interstitial tissue',\n",
       " 'alveolar parenchyma',\n",
       " 'alveolar septum',\n",
       " 'arl13b',\n",
       " 'arterial smooth muscle',\n",
       " 'bronchiolar epithelial cell',\n",
       " 'bronchiolar epithelium',\n",
       " 'bronchiolar smooth muscle',\n",
       " 'bronchiole',\n",
       " 'immature type i pneumocyte',\n",
       " 'immature type ii pneumocyte',\n",
       " 'interstitial cell',\n",
       " 'interstitial tissue',\n",
       " 'pre-alveolar acinar tubule',\n",
       " 'pre-alveolar parenchyma',\n",
       " 'pre-alveolar transitory duct',\n",
       " 'proximal acinar tubule',\n",
       " 'pulmonary artery',\n",
       " 'pulmonary vein',\n",
       " 'smooth muscle cell',\n",
       " 'unclassified alveolar interstitial cell',\n",
       " 'unclassified fibroblast',\n",
       " 'venous smooth muscle'}"
      ]
     },
     "execution_count": 54,
     "metadata": {},
     "output_type": "execute_result"
    }
   ],
   "source": [
    "probe = 'Arl13B'.strip().lower()\n",
    "probe_target_dict[probe]"
   ]
  },
  {
   "cell_type": "markdown",
   "metadata": {},
   "source": [
    "#### Find probes for a target"
   ]
  },
  {
   "cell_type": "code",
   "execution_count": 55,
   "metadata": {
    "collapsed": false
   },
   "outputs": [
    {
     "data": {
      "text/plain": [
       "{'?-smooth muscle actin', 'arl13b'}"
      ]
     },
     "execution_count": 55,
     "metadata": {},
     "output_type": "execute_result"
    }
   ],
   "source": [
    "target = 'smooth muscle cell'.strip().lower()\n",
    "target_probe_dict[target]"
   ]
  },
  {
   "cell_type": "markdown",
   "metadata": {},
   "source": [
    "#### Find what target (if any) is common to multiple probes"
   ]
  },
  {
   "cell_type": "code",
   "execution_count": 56,
   "metadata": {
    "collapsed": false
   },
   "outputs": [
    {
     "data": {
      "text/plain": [
       "{'immature type ii pneumocyte'}"
      ]
     },
     "execution_count": 56,
     "metadata": {},
     "output_type": "execute_result"
    }
   ],
   "source": [
    "probes = ['Arl13B', 'Pro SP-C', 'Sox9']\n",
    "find_targets(probes)"
   ]
  },
  {
   "cell_type": "code",
   "execution_count": null,
   "metadata": {
    "collapsed": true
   },
   "outputs": [],
   "source": []
  }
 ],
 "metadata": {
  "kernelspec": {
   "display_name": "Python 3",
   "language": "python",
   "name": "python3"
  },
  "language_info": {
   "codemirror_mode": {
    "name": "ipython",
    "version": 3
   },
   "file_extension": ".py",
   "mimetype": "text/x-python",
   "name": "python",
   "nbconvert_exporter": "python",
   "pygments_lexer": "ipython3",
   "version": "3.5.1"
  }
 },
 "nbformat": 4,
 "nbformat_minor": 0
}

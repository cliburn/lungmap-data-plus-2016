{
 "cells": [
  {
   "cell_type": "code",
   "execution_count": 4,
   "metadata": {
    "collapsed": true
   },
   "outputs": [],
   "source": [
    "s = \"\"\"img_file\tX\timage\texperiment\tage_label\tdate\texperiment_id\tgender\tlabel\tmagnification\torganism_label\tplatform\ts3downloadkey\tstrain\tpath\tx_scaling\ty_scaling\tresearcher\tsite\texperiment_type\trelease_date\tcolor\tprobe_id\tprobe_label\ttarget_conditions\ttarget_molecules\tage_group\tage_group_label\tcause_of_death\tcrown_rump_length\tgenotype\tharvest_date\thealth_status\tlocal_id\trace\tsample_id\tsex\ttax_id\tweight\tterm\tterm_label\timg_n_channels\timg_shape\timg_size\timg_z_depth\"\"\""
   ]
  },
  {
   "cell_type": "code",
   "execution_count": 7,
   "metadata": {
    "collapsed": false
   },
   "outputs": [
    {
     "name": "stdout",
     "output_type": "stream",
     "text": [
      "img_file\n",
      "X\n",
      "image\n",
      "experiment\n",
      "age_label\n",
      "date\n",
      "experiment_id\n",
      "gender\n",
      "label\n",
      "magnification\n",
      "organism_label\n",
      "platform\n",
      "s3downloadkey\n",
      "strain\n",
      "path\n",
      "x_scaling\n",
      "y_scaling\n",
      "researcher\n",
      "site\n",
      "experiment_type\n",
      "release_date\n",
      "color\n",
      "probe_id\n",
      "probe_label\n",
      "target_conditions\n",
      "target_molecules\n",
      "age_group\n",
      "age_group_label\n",
      "cause_of_death\n",
      "crown_rump_length\n",
      "genotype\n",
      "harvest_date\n",
      "health_status\n",
      "local_id\n",
      "race\n",
      "sample_id\n",
      "sex\n",
      "tax_id\n",
      "weight\n",
      "term\n",
      "term_label\n",
      "img_n_channels\n",
      "img_shape\n",
      "img_size\n",
      "img_z_depth\n"
     ]
    }
   ],
   "source": [
    "print('\\n'.join(s.split('\\t')))"
   ]
  },
  {
   "cell_type": "code",
   "execution_count": null,
   "metadata": {
    "collapsed": true
   },
   "outputs": [],
   "source": []
  }
 ],
 "metadata": {
  "kernelspec": {
   "display_name": "Python 2",
   "language": "python",
   "name": "python2"
  },
  "language_info": {
   "codemirror_mode": {
    "name": "ipython",
    "version": 3
   },
   "file_extension": ".py",
   "mimetype": "text/x-python",
   "name": "python",
   "nbconvert_exporter": "python",
   "pygments_lexer": "ipython3",
   "version": "3.5.1"
  }
 },
 "nbformat": 4,
 "nbformat_minor": 0
}
